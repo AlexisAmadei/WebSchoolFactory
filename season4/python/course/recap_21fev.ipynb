{
    "cells": [
        {
            "cell_type": "markdown",
            "metadata": {},
            "source": [
                "# Python Course Notebook 21 fev 2025\n",
                "\n",
                "This notebook covers fundamental Python concepts including variables, loops, data structures, functions, and NumPy operations.\n"
            ]
        },
        {
            "cell_type": "markdown",
            "metadata": {},
            "source": [
                "## 1. Variables and Data Types"
            ]
        },
        {
            "cell_type": "code",
            "execution_count": 3,
            "metadata": {},
            "outputs": [],
            "source": [
                "x = 'Bonjour'  # String variable"
            ]
        },
        {
            "cell_type": "code",
            "execution_count": 4,
            "metadata": {},
            "outputs": [
                {
                    "data": {
                        "text/plain": [
                            "str"
                        ]
                    },
                    "execution_count": 4,
                    "metadata": {},
                    "output_type": "execute_result"
                }
            ],
            "source": [
                "type(x)  # Check the type of x"
            ]
        },
        {
            "cell_type": "markdown",
            "metadata": {},
            "source": [
                "## 2. Loops and Iterations"
            ]
        },
        {
            "cell_type": "code",
            "execution_count": 5,
            "metadata": {},
            "outputs": [
                {
                    "name": "stdout",
                    "output_type": "stream",
                    "text": [
                        "B\n",
                        "o\n",
                        "n\n",
                        "j\n",
                        "o\n",
                        "u\n",
                        "r\n"
                    ]
                }
            ],
            "source": [
                "# Loop through each character in the string\n",
                "for i in range(0, len(x)):\n",
                "    print(x[i])"
            ]
        },
        {
            "cell_type": "markdown",
            "metadata": {},
            "source": [
                "## 3. Lists and Enumerations"
            ]
        },
        {
            "cell_type": "code",
            "execution_count": 6,
            "metadata": {},
            "outputs": [],
            "source": [
                "l = [1, 2, -3, 'abc', [1, 2, 3]]  # A list containing multiple data types"
            ]
        },
        {
            "cell_type": "code",
            "execution_count": 7,
            "metadata": {},
            "outputs": [
                {
                    "name": "stdout",
                    "output_type": "stream",
                    "text": [
                        "1\n",
                        "2\n",
                        "-3\n",
                        "abc\n",
                        "[1, 2, 3]\n"
                    ]
                }
            ],
            "source": [
                "# Iterate through the list and print each element\n",
                "for e in l:\n",
                "    print(e)"
            ]
        },
        {
            "cell_type": "code",
            "execution_count": 8,
            "metadata": {},
            "outputs": [
                {
                    "name": "stdout",
                    "output_type": "stream",
                    "text": [
                        "0 : 1\n",
                        "2 : -3\n",
                        "4 : [1, 2, 3]\n"
                    ]
                }
            ],
            "source": [
                "# Using enumerate to print even indexed elements\n",
                "for index, value in enumerate(l):\n",
                "    if index % 2 == 0:\n",
                "        print(index, ':', value)"
            ]
        },
        {
            "cell_type": "markdown",
            "metadata": {},
            "source": [
                "## 4. Functions"
            ]
        },
        {
            "cell_type": "code",
            "execution_count": 9,
            "metadata": {},
            "outputs": [],
            "source": [
                "def repetition(message, nb):\n",
                "    \"\"\"Function to print a message multiple times\"\"\"\n",
                "    print(message * nb)"
            ]
        },
        {
            "cell_type": "markdown",
            "metadata": {},
            "source": [
                "## 5. Tuples and Performance Comparison"
            ]
        },
        {
            "cell_type": "code",
            "execution_count": 10,
            "metadata": {},
            "outputs": [
                {
                    "name": "stdout",
                    "output_type": "stream",
                    "text": [
                        "List access time: 0.07111620903015137\n",
                        "Tuple access time: 0.10953712463378906\n"
                    ]
                }
            ],
            "source": [
                "import time\n",
                "\n",
                "# Creating a list and a tuple\n",
                "my_list = [1, 2, 3, 4, 5, 6, 7, 8, 9, 10]\n",
                "my_tuple = (1, 2, 3, 4, 5, 6, 7, 8, 9, 10)\n",
                "\n",
                "# Measuring access time for the list\n",
                "start_time = time.time()\n",
                "for _ in range(1000000):\n",
                "    my_list[2]\n",
                "list_access_time = time.time() - start_time\n",
                "\n",
                "# Measuring access time for the tuple\n",
                "start_time = time.time()\n",
                "for _ in range(1000000):\n",
                "    my_tuple[2]\n",
                "tuple_access_time = time.time() - start_time\n",
                "\n",
                "print(f\"List access time: {list_access_time}\")\n",
                "print(f\"Tuple access time: {tuple_access_time}\")"
            ]
        },
        {
            "cell_type": "markdown",
            "metadata": {},
            "source": [
                "## 6. Dictionaries"
            ]
        },
        {
            "cell_type": "code",
            "execution_count": 11,
            "metadata": {},
            "outputs": [],
            "source": [
                "user1 = {'firstname': 'Clark', 'lastname': 'Kent', 'job': 'journalist'}  # Dictionary definition"
            ]
        },
        {
            "cell_type": "code",
            "execution_count": 12,
            "metadata": {},
            "outputs": [
                {
                    "name": "stdout",
                    "output_type": "stream",
                    "text": [
                        "Clark\n",
                        "Kent\n",
                        "journalist\n"
                    ]
                }
            ],
            "source": [
                "# Looping through dictionary values\n",
                "for v in user1.values():\n",
                "    print(v)"
            ]
        },
        {
            "cell_type": "markdown",
            "metadata": {},
            "source": [
                "## 7. List Comprehension"
            ]
        },
        {
            "cell_type": "code",
            "execution_count": 13,
            "metadata": {},
            "outputs": [
                {
                    "name": "stdout",
                    "output_type": "stream",
                    "text": [
                        "[10000, 9801, 9604, 9409, 9216, 9025, 8836, 8649, 8464, 8281, 8100, 7921, 7744, 7569, 7396, 7225, 7056, 6889, 6724, 6561, 6400, 6241, 6084, 5929, 5776, 5625, 5476, 5329, 5184, 5041, 4900, 4761, 4624, 4489, 4356, 4225, 4096, 3969, 3844, 3721, 3600, 3481, 3364, 3249, 3136, 3025, 2916, 2809, 2704, 2601, 2500, 2401, 2304, 2209, 2116, 2025, 1936, 1849, 1764, 1681, 1600, 1521, 1444, 1369, 1296, 1225, 1156, 1089, 1024, 961, 900, 841, 784, 729, 676, 625, 576, 529, 484, 441, 400, 361, 324, 289, 256, 225, 196, 169, 144, 121, 100, 81, 64, 49, 36, 25, 16, 9, 4, 1]\n"
                    ]
                }
            ],
            "source": [
                "# List comprehension example: Squares in descending order\n",
                "ex1 = [i**2 for i in range(100, 0, -1)]\n",
                "print(ex1)"
            ]
        },
        {
            "cell_type": "markdown",
            "metadata": {},
            "source": [
                "## 8. NumPy Arrays"
            ]
        },
        {
            "cell_type": "code",
            "execution_count": 14,
            "metadata": {},
            "outputs": [
                {
                    "name": "stdout",
                    "output_type": "stream",
                    "text": [
                        "[ 5 -3  9]\n",
                        "[2 4 6]\n",
                        "[-4  5 -6]\n"
                    ]
                }
            ],
            "source": [
                "import numpy as np\n",
                "\n",
                "u = np.array([1, 2, 3])\n",
                "v = np.array([4, -5, 6])\n",
                "\n",
                "# Vector operations\n",
                "print(u + v)  # Vector addition\n",
                "print(2 * u)  # Scalar multiplication\n",
                "print(-v)  # Negation"
            ]
        },
        {
            "cell_type": "markdown",
            "metadata": {},
            "source": [
                "## 9. Dot Product and Matrix Operations"
            ]
        },
        {
            "cell_type": "code",
            "execution_count": 17,
            "metadata": {},
            "outputs": [],
            "source": [
                "# define u and v\n",
                "u = np.array([1, 2, 3])\n",
                "v = np.array([4, -5, 6])"
            ]
        },
        {
            "cell_type": "code",
            "execution_count": 18,
            "metadata": {},
            "outputs": [
                {
                    "name": "stdout",
                    "output_type": "stream",
                    "text": [
                        "12\n"
                    ]
                }
            ],
            "source": [
                "# Dot product\n",
                "print(np.dot(u, v))"
            ]
        },
        {
            "cell_type": "code",
            "execution_count": 21,
            "metadata": {},
            "outputs": [
                {
                    "name": "stdout",
                    "output_type": "stream",
                    "text": [
                        "12\n"
                    ]
                }
            ],
            "source": [
                "# Dot product\n",
                "print(u @ v)"
            ]
        },
        {
            "cell_type": "code",
            "execution_count": 31,
            "metadata": {},
            "outputs": [
                {
                    "name": "stdout",
                    "output_type": "stream",
                    "text": [
                        "[ 5 11 17]\n"
                    ]
                }
            ],
            "source": [
                "M = np.array([[1,2], [3,4], [5,6]])\n",
                "v = np.array([1, 2])\n",
                "print(M @ v)  # Matrix-vector multiplication"
            ]
        },
        {
            "cell_type": "markdown",
            "metadata": {},
            "source": [
                "# Other usefull libs\n",
                "- Numpy\n",
                "- PuLP\n",
                "- CPLEX\n",
                "- Pandas\n",
                "- Gurobi\n",
                "- Matplotlib"
            ]
        }
    ],
    "metadata": {
        "kernelspec": {
            "display_name": "Python 3",
            "language": "python",
            "name": "python3"
        },
        "language_info": {
            "codemirror_mode": {
                "name": "ipython",
                "version": 3
            },
            "file_extension": ".py",
            "mimetype": "text/x-python",
            "name": "python",
            "nbconvert_exporter": "python",
            "pygments_lexer": "ipython3",
            "version": "3.13.2"
        }
    },
    "nbformat": 4,
    "nbformat_minor": 2
}
