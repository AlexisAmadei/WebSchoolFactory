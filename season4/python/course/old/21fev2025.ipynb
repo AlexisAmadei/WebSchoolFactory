{
 "cells": [
  {
   "cell_type": "markdown",
   "metadata": {},
   "source": [
    "Python 4A 21 fev 2025"
   ]
  },
  {
   "cell_type": "code",
   "execution_count": 128,
   "metadata": {},
   "outputs": [],
   "source": [
    "x='Bonjour'"
   ]
  },
  {
   "cell_type": "code",
   "execution_count": 129,
   "metadata": {},
   "outputs": [
    {
     "data": {
      "text/plain": [
       "str"
      ]
     },
     "execution_count": 129,
     "metadata": {},
     "output_type": "execute_result"
    }
   ],
   "source": [
    "type(x)"
   ]
  },
  {
   "cell_type": "code",
   "execution_count": 130,
   "metadata": {},
   "outputs": [
    {
     "name": "stdout",
     "output_type": "stream",
     "text": [
      "B\n",
      "o\n",
      "n\n",
      "j\n",
      "o\n",
      "u\n",
      "r\n"
     ]
    }
   ],
   "source": [
    "for i in range(0,len(x)):\n",
    "    print(x[i])"
   ]
  },
  {
   "cell_type": "code",
   "execution_count": 131,
   "metadata": {},
   "outputs": [],
   "source": [
    "l = [1, 2, -3, 'abc', [1, 2, 3]]"
   ]
  },
  {
   "cell_type": "code",
   "execution_count": 132,
   "metadata": {},
   "outputs": [
    {
     "name": "stdout",
     "output_type": "stream",
     "text": [
      "1\n",
      "2\n",
      "-3\n",
      "abc\n",
      "[1, 2, 3]\n"
     ]
    }
   ],
   "source": [
    "for e in l:\n",
    "    print(e)"
   ]
  },
  {
   "cell_type": "code",
   "execution_count": 133,
   "metadata": {},
   "outputs": [
    {
     "name": "stdout",
     "output_type": "stream",
     "text": [
      "0 : 1\n",
      "2 : -3\n",
      "4 : [1, 2, 3]\n"
     ]
    }
   ],
   "source": [
    "for index, value in enumerate(l):\n",
    "    if (index%2 == 0):\n",
    "        print(index, ':' , value)"
   ]
  },
  {
   "cell_type": "code",
   "execution_count": 134,
   "metadata": {},
   "outputs": [],
   "source": [
    "x=2"
   ]
  },
  {
   "cell_type": "code",
   "execution_count": 135,
   "metadata": {},
   "outputs": [
    {
     "data": {
      "text/plain": [
       "0"
      ]
     },
     "execution_count": 135,
     "metadata": {},
     "output_type": "execute_result"
    }
   ],
   "source": [
    "x%2"
   ]
  },
  {
   "cell_type": "code",
   "execution_count": 136,
   "metadata": {},
   "outputs": [
    {
     "name": "stdout",
     "output_type": "stream",
     "text": [
      "0 : 1\n",
      "4\n",
      "2 : -3\n",
      "yo !\n",
      "4 : [1, 2, 3]\n"
     ]
    }
   ],
   "source": [
    "for index, item in enumerate(l):\n",
    "    if (index%2 == 0):\n",
    "        print(index, ':' , item)\n",
    "    elif (index > 1):\n",
    "        print('yo !')\n",
    "    else:\n",
    "        print(item + item)"
   ]
  },
  {
   "cell_type": "code",
   "execution_count": 137,
   "metadata": {},
   "outputs": [
    {
     "name": "stdout",
     "output_type": "stream",
     "text": [
      "[1, 2, 3]\n",
      "abc\n"
     ]
    }
   ],
   "source": [
    "for i in range(0, 2):\n",
    "    print(l.pop())"
   ]
  },
  {
   "cell_type": "code",
   "execution_count": 138,
   "metadata": {},
   "outputs": [],
   "source": [
    "l = [1, 2, -3, 'abc', [1, 2, 3]]"
   ]
  },
  {
   "cell_type": "code",
   "execution_count": 139,
   "metadata": {},
   "outputs": [],
   "source": [
    "def repetition(message, nb):\n",
    "    print(message*nb)"
   ]
  },
  {
   "cell_type": "code",
   "execution_count": 140,
   "metadata": {},
   "outputs": [
    {
     "data": {
      "text/plain": [
       "[1, 2, -3, 'abc', [1, 2, 3]]"
      ]
     },
     "execution_count": 140,
     "metadata": {},
     "output_type": "execute_result"
    }
   ],
   "source": [
    "l"
   ]
  },
  {
   "cell_type": "code",
   "execution_count": 141,
   "metadata": {},
   "outputs": [],
   "source": [
    "l.insert(2, 'hello')"
   ]
  },
  {
   "cell_type": "code",
   "execution_count": 142,
   "metadata": {},
   "outputs": [
    {
     "data": {
      "text/plain": [
       "[1, 2, 'hello', -3, 'abc', [1, 2, 3]]"
      ]
     },
     "execution_count": 142,
     "metadata": {},
     "output_type": "execute_result"
    }
   ],
   "source": [
    "l"
   ]
  },
  {
   "cell_type": "code",
   "execution_count": 143,
   "metadata": {},
   "outputs": [],
   "source": [
    "ex_tuple = (1, 2, 3)"
   ]
  },
  {
   "cell_type": "markdown",
   "metadata": {},
   "source": [
    "## Tuple are faster than list due to fixed memory allocation\n",
    "Test de vitesse"
   ]
  },
  {
   "cell_type": "code",
   "execution_count": 144,
   "metadata": {},
   "outputs": [
    {
     "name": "stdout",
     "output_type": "stream",
     "text": [
      "List access time: 0.05547738075256348\n",
      "Tuple access time: 0.05984926223754883\n"
     ]
    }
   ],
   "source": [
    "import time\n",
    "\n",
    "# Creating a list and a tuple with the same elements\n",
    "my_list = [1, 2, 3, 4, 5, 6, 7, 8, 9, 10]\n",
    "my_tuple = (1, 2, 3, 4, 5, 6, 7, 8, 9, 10)\n",
    "\n",
    "# Measuring access time for the list\n",
    "start_time = time.time()\n",
    "for _ in range(1000000):\n",
    "    my_list[2]\n",
    "list_access_time = time.time() - start_time\n",
    "\n",
    "# Measuring access time for the tuple\n",
    "start_time = time.time()\n",
    "for _ in range(1000000):\n",
    "    my_tuple[2]\n",
    "tuple_access_time = time.time() - start_time\n",
    "\n",
    "print(f\"List access time: {list_access_time}\")\n",
    "print(f\"Tuple access time: {tuple_access_time}\")"
   ]
  },
  {
   "cell_type": "code",
   "execution_count": 145,
   "metadata": {},
   "outputs": [
    {
     "data": {
      "text/plain": [
       "10"
      ]
     },
     "execution_count": 145,
     "metadata": {},
     "output_type": "execute_result"
    }
   ],
   "source": [
    "my_list[-1]"
   ]
  },
  {
   "cell_type": "code",
   "execution_count": 146,
   "metadata": {},
   "outputs": [],
   "source": [
    "user1 = {'firstname':'Clark', 'lastname':'Kent', 'job':'journalist'}"
   ]
  },
  {
   "cell_type": "code",
   "execution_count": 147,
   "metadata": {},
   "outputs": [
    {
     "data": {
      "text/plain": [
       "{'firstname': 'Clark', 'lastname': 'Kent', 'job': 'journalist'}"
      ]
     },
     "execution_count": 147,
     "metadata": {},
     "output_type": "execute_result"
    }
   ],
   "source": [
    "user1"
   ]
  },
  {
   "cell_type": "code",
   "execution_count": 148,
   "metadata": {},
   "outputs": [
    {
     "name": "stdout",
     "output_type": "stream",
     "text": [
      "Clark\n",
      "Kent\n",
      "journalist\n"
     ]
    }
   ],
   "source": [
    "for v in user1.values():\n",
    "    print(v)"
   ]
  },
  {
   "cell_type": "code",
   "execution_count": 149,
   "metadata": {},
   "outputs": [
    {
     "name": "stdout",
     "output_type": "stream",
     "text": [
      "firstname\n",
      "lastname\n",
      "job\n"
     ]
    }
   ],
   "source": [
    "for k in user1.keys():\n",
    "    print(k)"
   ]
  },
  {
   "cell_type": "code",
   "execution_count": 150,
   "metadata": {},
   "outputs": [
    {
     "name": "stdout",
     "output_type": "stream",
     "text": [
      "firstname : Clark\n",
      "lastname : Kent\n",
      "job : journalist\n"
     ]
    }
   ],
   "source": [
    "for k, v in user1.items():\n",
    "    print(k, ':', v)"
   ]
  },
  {
   "cell_type": "code",
   "execution_count": 151,
   "metadata": {},
   "outputs": [
    {
     "data": {
      "text/plain": [
       "[1, 2, 'hello', -3, 'abc', [1, 2, 3]]"
      ]
     },
     "execution_count": 151,
     "metadata": {},
     "output_type": "execute_result"
    }
   ],
   "source": [
    "l"
   ]
  },
  {
   "cell_type": "code",
   "execution_count": 152,
   "metadata": {},
   "outputs": [
    {
     "data": {
      "text/plain": [
       "[2, 4, 'hellohello', -6, 'abcabc', [1, 2, 3, 1, 2, 3]]"
      ]
     },
     "execution_count": 152,
     "metadata": {},
     "output_type": "execute_result"
    }
   ],
   "source": [
    "[v*2 for v in l]"
   ]
  },
  {
   "cell_type": "code",
   "execution_count": 153,
   "metadata": {},
   "outputs": [
    {
     "name": "stdout",
     "output_type": "stream",
     "text": [
      "yes\n"
     ]
    }
   ],
   "source": [
    "if (800 == 800.0):\n",
    "    print('yes')\n",
    "else:\n",
    "    print('no')"
   ]
  },
  {
   "cell_type": "code",
   "execution_count": 154,
   "metadata": {},
   "outputs": [
    {
     "data": {
      "text/plain": [
       "int"
      ]
     },
     "execution_count": 154,
     "metadata": {},
     "output_type": "execute_result"
    }
   ],
   "source": [
    "type(800)"
   ]
  },
  {
   "cell_type": "code",
   "execution_count": 155,
   "metadata": {},
   "outputs": [
    {
     "data": {
      "text/plain": [
       "float"
      ]
     },
     "execution_count": 155,
     "metadata": {},
     "output_type": "execute_result"
    }
   ],
   "source": [
    "type(800.0)"
   ]
  },
  {
   "cell_type": "code",
   "execution_count": 156,
   "metadata": {},
   "outputs": [
    {
     "data": {
      "text/plain": [
       "1600.0"
      ]
     },
     "execution_count": 156,
     "metadata": {},
     "output_type": "execute_result"
    }
   ],
   "source": [
    "800 + 800.0"
   ]
  },
  {
   "cell_type": "markdown",
   "metadata": {},
   "source": [
    "# Exercice\n",
    "-> Ecrire la compréhension de liste qui regroupe les carrés de tous les nombres entre 1 et 100 dans l'ordre décroissant"
   ]
  },
  {
   "cell_type": "code",
   "execution_count": 157,
   "metadata": {},
   "outputs": [
    {
     "name": "stdout",
     "output_type": "stream",
     "text": [
      "[10000, 9801, 9604, 9409, 9216, 9025, 8836, 8649, 8464, 8281, 8100, 7921, 7744, 7569, 7396, 7225, 7056, 6889, 6724, 6561, 6400, 6241, 6084, 5929, 5776, 5625, 5476, 5329, 5184, 5041, 4900, 4761, 4624, 4489, 4356, 4225, 4096, 3969, 3844, 3721, 3600, 3481, 3364, 3249, 3136, 3025, 2916, 2809, 2704, 2601, 2500, 2401, 2304, 2209, 2116, 2025, 1936, 1849, 1764, 1681, 1600, 1521, 1444, 1369, 1296, 1225, 1156, 1089, 1024, 961, 900, 841, 784, 729, 676, 625, 576, 529, 484, 441, 400, 361, 324, 289, 256, 225, 196, 169, 144, 121, 100, 81, 64, 49, 36, 25, 16, 9, 4, 1]\n"
     ]
    }
   ],
   "source": [
    "ex1 = [i**2 for i in range(100, 0, -1)]\n",
    "print(ex1)"
   ]
  },
  {
   "cell_type": "code",
   "execution_count": 158,
   "metadata": {},
   "outputs": [],
   "source": [
    "l = [400,0, -3, 1000, 'abc']"
   ]
  },
  {
   "cell_type": "code",
   "execution_count": 159,
   "metadata": {},
   "outputs": [
    {
     "data": {
      "text/plain": [
       "[(400, 10000),\n",
       " (400, 9801),\n",
       " (400, 9604),\n",
       " (400, 9409),\n",
       " (400, 9216),\n",
       " (400, 9025),\n",
       " (400, 8836),\n",
       " (400, 8649),\n",
       " (400, 8464),\n",
       " (400, 8281),\n",
       " (400, 8100),\n",
       " (400, 7921),\n",
       " (400, 7744),\n",
       " (400, 7569),\n",
       " (400, 7396),\n",
       " (400, 7225),\n",
       " (400, 7056),\n",
       " (400, 6889),\n",
       " (400, 6724),\n",
       " (400, 6561),\n",
       " (400, 6400),\n",
       " (400, 6241),\n",
       " (400, 6084),\n",
       " (400, 5929),\n",
       " (400, 5776),\n",
       " (400, 5625),\n",
       " (400, 5476),\n",
       " (400, 5329),\n",
       " (400, 5184),\n",
       " (400, 5041),\n",
       " (400, 4900),\n",
       " (400, 4761),\n",
       " (400, 4624),\n",
       " (400, 4489),\n",
       " (400, 4356),\n",
       " (400, 4225),\n",
       " (400, 4096),\n",
       " (400, 3969),\n",
       " (400, 3844),\n",
       " (400, 3721),\n",
       " (400, 3600),\n",
       " (400, 3481),\n",
       " (400, 3364),\n",
       " (400, 3249),\n",
       " (400, 3136),\n",
       " (400, 3025),\n",
       " (400, 2916),\n",
       " (400, 2809),\n",
       " (400, 2704),\n",
       " (400, 2601),\n",
       " (400, 2500),\n",
       " (400, 2401),\n",
       " (400, 2304),\n",
       " (400, 2209),\n",
       " (400, 2116),\n",
       " (400, 2025),\n",
       " (400, 1936),\n",
       " (400, 1849),\n",
       " (400, 1764),\n",
       " (400, 1681),\n",
       " (400, 1600),\n",
       " (400, 1521),\n",
       " (400, 1444),\n",
       " (400, 1369),\n",
       " (400, 1296),\n",
       " (400, 1225),\n",
       " (400, 1156),\n",
       " (400, 1089),\n",
       " (400, 1024),\n",
       " (400, 961),\n",
       " (400, 900),\n",
       " (400, 841),\n",
       " (400, 784),\n",
       " (400, 729),\n",
       " (400, 676),\n",
       " (400, 625),\n",
       " (400, 576),\n",
       " (400, 529),\n",
       " (400, 484),\n",
       " (400, 441),\n",
       " (400, 400),\n",
       " (400, 361),\n",
       " (400, 324),\n",
       " (400, 289),\n",
       " (400, 256),\n",
       " (400, 225),\n",
       " (400, 196),\n",
       " (400, 169),\n",
       " (400, 144),\n",
       " (400, 121),\n",
       " (400, 100),\n",
       " (400, 81),\n",
       " (400, 64),\n",
       " (400, 49),\n",
       " (400, 36),\n",
       " (400, 25),\n",
       " (400, 16),\n",
       " (400, 9),\n",
       " (400, 4),\n",
       " (400, 1),\n",
       " (0, 10000),\n",
       " (0, 9801),\n",
       " (0, 9604),\n",
       " (0, 9409),\n",
       " (0, 9216),\n",
       " (0, 9025),\n",
       " (0, 8836),\n",
       " (0, 8649),\n",
       " (0, 8464),\n",
       " (0, 8281),\n",
       " (0, 8100),\n",
       " (0, 7921),\n",
       " (0, 7744),\n",
       " (0, 7569),\n",
       " (0, 7396),\n",
       " (0, 7225),\n",
       " (0, 7056),\n",
       " (0, 6889),\n",
       " (0, 6724),\n",
       " (0, 6561),\n",
       " (0, 6400),\n",
       " (0, 6241),\n",
       " (0, 6084),\n",
       " (0, 5929),\n",
       " (0, 5776),\n",
       " (0, 5625),\n",
       " (0, 5476),\n",
       " (0, 5329),\n",
       " (0, 5184),\n",
       " (0, 5041),\n",
       " (0, 4900),\n",
       " (0, 4761),\n",
       " (0, 4624),\n",
       " (0, 4489),\n",
       " (0, 4356),\n",
       " (0, 4225),\n",
       " (0, 4096),\n",
       " (0, 3969),\n",
       " (0, 3844),\n",
       " (0, 3721),\n",
       " (0, 3600),\n",
       " (0, 3481),\n",
       " (0, 3364),\n",
       " (0, 3249),\n",
       " (0, 3136),\n",
       " (0, 3025),\n",
       " (0, 2916),\n",
       " (0, 2809),\n",
       " (0, 2704),\n",
       " (0, 2601),\n",
       " (0, 2500),\n",
       " (0, 2401),\n",
       " (0, 2304),\n",
       " (0, 2209),\n",
       " (0, 2116),\n",
       " (0, 2025),\n",
       " (0, 1936),\n",
       " (0, 1849),\n",
       " (0, 1764),\n",
       " (0, 1681),\n",
       " (0, 1600),\n",
       " (0, 1521),\n",
       " (0, 1444),\n",
       " (0, 1369),\n",
       " (0, 1296),\n",
       " (0, 1225),\n",
       " (0, 1156),\n",
       " (0, 1089),\n",
       " (0, 1024),\n",
       " (0, 961),\n",
       " (0, 900),\n",
       " (0, 841),\n",
       " (0, 784),\n",
       " (0, 729),\n",
       " (0, 676),\n",
       " (0, 625),\n",
       " (0, 576),\n",
       " (0, 529),\n",
       " (0, 484),\n",
       " (0, 441),\n",
       " (0, 400),\n",
       " (0, 361),\n",
       " (0, 324),\n",
       " (0, 289),\n",
       " (0, 256),\n",
       " (0, 225),\n",
       " (0, 196),\n",
       " (0, 169),\n",
       " (0, 144),\n",
       " (0, 121),\n",
       " (0, 100),\n",
       " (0, 81),\n",
       " (0, 64),\n",
       " (0, 49),\n",
       " (0, 36),\n",
       " (0, 25),\n",
       " (0, 16),\n",
       " (0, 9),\n",
       " (0, 4),\n",
       " (0, 1),\n",
       " (-3, 10000),\n",
       " (-3, 9801),\n",
       " (-3, 9604),\n",
       " (-3, 9409),\n",
       " (-3, 9216),\n",
       " (-3, 9025),\n",
       " (-3, 8836),\n",
       " (-3, 8649),\n",
       " (-3, 8464),\n",
       " (-3, 8281),\n",
       " (-3, 8100),\n",
       " (-3, 7921),\n",
       " (-3, 7744),\n",
       " (-3, 7569),\n",
       " (-3, 7396),\n",
       " (-3, 7225),\n",
       " (-3, 7056),\n",
       " (-3, 6889),\n",
       " (-3, 6724),\n",
       " (-3, 6561),\n",
       " (-3, 6400),\n",
       " (-3, 6241),\n",
       " (-3, 6084),\n",
       " (-3, 5929),\n",
       " (-3, 5776),\n",
       " (-3, 5625),\n",
       " (-3, 5476),\n",
       " (-3, 5329),\n",
       " (-3, 5184),\n",
       " (-3, 5041),\n",
       " (-3, 4900),\n",
       " (-3, 4761),\n",
       " (-3, 4624),\n",
       " (-3, 4489),\n",
       " (-3, 4356),\n",
       " (-3, 4225),\n",
       " (-3, 4096),\n",
       " (-3, 3969),\n",
       " (-3, 3844),\n",
       " (-3, 3721),\n",
       " (-3, 3600),\n",
       " (-3, 3481),\n",
       " (-3, 3364),\n",
       " (-3, 3249),\n",
       " (-3, 3136),\n",
       " (-3, 3025),\n",
       " (-3, 2916),\n",
       " (-3, 2809),\n",
       " (-3, 2704),\n",
       " (-3, 2601),\n",
       " (-3, 2500),\n",
       " (-3, 2401),\n",
       " (-3, 2304),\n",
       " (-3, 2209),\n",
       " (-3, 2116),\n",
       " (-3, 2025),\n",
       " (-3, 1936),\n",
       " (-3, 1849),\n",
       " (-3, 1764),\n",
       " (-3, 1681),\n",
       " (-3, 1600),\n",
       " (-3, 1521),\n",
       " (-3, 1444),\n",
       " (-3, 1369),\n",
       " (-3, 1296),\n",
       " (-3, 1225),\n",
       " (-3, 1156),\n",
       " (-3, 1089),\n",
       " (-3, 1024),\n",
       " (-3, 961),\n",
       " (-3, 900),\n",
       " (-3, 841),\n",
       " (-3, 784),\n",
       " (-3, 729),\n",
       " (-3, 676),\n",
       " (-3, 625),\n",
       " (-3, 576),\n",
       " (-3, 529),\n",
       " (-3, 484),\n",
       " (-3, 441),\n",
       " (-3, 400),\n",
       " (-3, 361),\n",
       " (-3, 324),\n",
       " (-3, 289),\n",
       " (-3, 256),\n",
       " (-3, 225),\n",
       " (-3, 196),\n",
       " (-3, 169),\n",
       " (-3, 144),\n",
       " (-3, 121),\n",
       " (-3, 100),\n",
       " (-3, 81),\n",
       " (-3, 64),\n",
       " (-3, 49),\n",
       " (-3, 36),\n",
       " (-3, 25),\n",
       " (-3, 16),\n",
       " (-3, 9),\n",
       " (-3, 4),\n",
       " (-3, 1),\n",
       " (1000, 10000),\n",
       " (1000, 9801),\n",
       " (1000, 9604),\n",
       " (1000, 9409),\n",
       " (1000, 9216),\n",
       " (1000, 9025),\n",
       " (1000, 8836),\n",
       " (1000, 8649),\n",
       " (1000, 8464),\n",
       " (1000, 8281),\n",
       " (1000, 8100),\n",
       " (1000, 7921),\n",
       " (1000, 7744),\n",
       " (1000, 7569),\n",
       " (1000, 7396),\n",
       " (1000, 7225),\n",
       " (1000, 7056),\n",
       " (1000, 6889),\n",
       " (1000, 6724),\n",
       " (1000, 6561),\n",
       " (1000, 6400),\n",
       " (1000, 6241),\n",
       " (1000, 6084),\n",
       " (1000, 5929),\n",
       " (1000, 5776),\n",
       " (1000, 5625),\n",
       " (1000, 5476),\n",
       " (1000, 5329),\n",
       " (1000, 5184),\n",
       " (1000, 5041),\n",
       " (1000, 4900),\n",
       " (1000, 4761),\n",
       " (1000, 4624),\n",
       " (1000, 4489),\n",
       " (1000, 4356),\n",
       " (1000, 4225),\n",
       " (1000, 4096),\n",
       " (1000, 3969),\n",
       " (1000, 3844),\n",
       " (1000, 3721),\n",
       " (1000, 3600),\n",
       " (1000, 3481),\n",
       " (1000, 3364),\n",
       " (1000, 3249),\n",
       " (1000, 3136),\n",
       " (1000, 3025),\n",
       " (1000, 2916),\n",
       " (1000, 2809),\n",
       " (1000, 2704),\n",
       " (1000, 2601),\n",
       " (1000, 2500),\n",
       " (1000, 2401),\n",
       " (1000, 2304),\n",
       " (1000, 2209),\n",
       " (1000, 2116),\n",
       " (1000, 2025),\n",
       " (1000, 1936),\n",
       " (1000, 1849),\n",
       " (1000, 1764),\n",
       " (1000, 1681),\n",
       " (1000, 1600),\n",
       " (1000, 1521),\n",
       " (1000, 1444),\n",
       " (1000, 1369),\n",
       " (1000, 1296),\n",
       " (1000, 1225),\n",
       " (1000, 1156),\n",
       " (1000, 1089),\n",
       " (1000, 1024),\n",
       " (1000, 961),\n",
       " (1000, 900),\n",
       " (1000, 841),\n",
       " (1000, 784),\n",
       " (1000, 729),\n",
       " (1000, 676),\n",
       " (1000, 625),\n",
       " (1000, 576),\n",
       " (1000, 529),\n",
       " (1000, 484),\n",
       " (1000, 441),\n",
       " (1000, 400),\n",
       " (1000, 361),\n",
       " (1000, 324),\n",
       " (1000, 289),\n",
       " (1000, 256),\n",
       " (1000, 225),\n",
       " (1000, 196),\n",
       " (1000, 169),\n",
       " (1000, 144),\n",
       " (1000, 121),\n",
       " (1000, 100),\n",
       " (1000, 81),\n",
       " (1000, 64),\n",
       " (1000, 49),\n",
       " (1000, 36),\n",
       " (1000, 25),\n",
       " (1000, 16),\n",
       " (1000, 9),\n",
       " (1000, 4),\n",
       " (1000, 1),\n",
       " ('abc', 10000),\n",
       " ('abc', 9801),\n",
       " ('abc', 9604),\n",
       " ('abc', 9409),\n",
       " ('abc', 9216),\n",
       " ('abc', 9025),\n",
       " ('abc', 8836),\n",
       " ('abc', 8649),\n",
       " ('abc', 8464),\n",
       " ('abc', 8281),\n",
       " ('abc', 8100),\n",
       " ('abc', 7921),\n",
       " ('abc', 7744),\n",
       " ('abc', 7569),\n",
       " ('abc', 7396),\n",
       " ('abc', 7225),\n",
       " ('abc', 7056),\n",
       " ('abc', 6889),\n",
       " ('abc', 6724),\n",
       " ('abc', 6561),\n",
       " ('abc', 6400),\n",
       " ('abc', 6241),\n",
       " ('abc', 6084),\n",
       " ('abc', 5929),\n",
       " ('abc', 5776),\n",
       " ('abc', 5625),\n",
       " ('abc', 5476),\n",
       " ('abc', 5329),\n",
       " ('abc', 5184),\n",
       " ('abc', 5041),\n",
       " ('abc', 4900),\n",
       " ('abc', 4761),\n",
       " ('abc', 4624),\n",
       " ('abc', 4489),\n",
       " ('abc', 4356),\n",
       " ('abc', 4225),\n",
       " ('abc', 4096),\n",
       " ('abc', 3969),\n",
       " ('abc', 3844),\n",
       " ('abc', 3721),\n",
       " ('abc', 3600),\n",
       " ('abc', 3481),\n",
       " ('abc', 3364),\n",
       " ('abc', 3249),\n",
       " ('abc', 3136),\n",
       " ('abc', 3025),\n",
       " ('abc', 2916),\n",
       " ('abc', 2809),\n",
       " ('abc', 2704),\n",
       " ('abc', 2601),\n",
       " ('abc', 2500),\n",
       " ('abc', 2401),\n",
       " ('abc', 2304),\n",
       " ('abc', 2209),\n",
       " ('abc', 2116),\n",
       " ('abc', 2025),\n",
       " ('abc', 1936),\n",
       " ('abc', 1849),\n",
       " ('abc', 1764),\n",
       " ('abc', 1681),\n",
       " ('abc', 1600),\n",
       " ('abc', 1521),\n",
       " ('abc', 1444),\n",
       " ('abc', 1369),\n",
       " ('abc', 1296),\n",
       " ('abc', 1225),\n",
       " ('abc', 1156),\n",
       " ('abc', 1089),\n",
       " ('abc', 1024),\n",
       " ('abc', 961),\n",
       " ('abc', 900),\n",
       " ('abc', 841),\n",
       " ('abc', 784),\n",
       " ('abc', 729),\n",
       " ('abc', 676),\n",
       " ('abc', 625),\n",
       " ('abc', 576),\n",
       " ('abc', 529),\n",
       " ('abc', 484),\n",
       " ('abc', 441),\n",
       " ('abc', 400),\n",
       " ('abc', 361),\n",
       " ('abc', 324),\n",
       " ('abc', 289),\n",
       " ('abc', 256),\n",
       " ('abc', 225),\n",
       " ('abc', 196),\n",
       " ('abc', 169),\n",
       " ('abc', 144),\n",
       " ('abc', 121),\n",
       " ('abc', 100),\n",
       " ('abc', 81),\n",
       " ('abc', 64),\n",
       " ('abc', 49),\n",
       " ('abc', 36),\n",
       " ('abc', 25),\n",
       " ('abc', 16),\n",
       " ('abc', 9),\n",
       " ('abc', 4),\n",
       " ('abc', 1)]"
      ]
     },
     "execution_count": 159,
     "metadata": {},
     "output_type": "execute_result"
    }
   ],
   "source": [
    "[(x, y) for x in l for y in ex1]"
   ]
  },
  {
   "cell_type": "code",
   "execution_count": 160,
   "metadata": {},
   "outputs": [],
   "source": [
    "list2list = [[1,2,3], [4,5,6], [7,8,9]]"
   ]
  },
  {
   "cell_type": "code",
   "execution_count": 161,
   "metadata": {},
   "outputs": [
    {
     "data": {
      "text/plain": [
       "[[1, 2, 3], [4, 5, 6], [7, 8, 9]]"
      ]
     },
     "execution_count": 161,
     "metadata": {},
     "output_type": "execute_result"
    }
   ],
   "source": [
    "list2list"
   ]
  },
  {
   "cell_type": "code",
   "execution_count": 162,
   "metadata": {},
   "outputs": [
    {
     "data": {
      "text/plain": [
       "9"
      ]
     },
     "execution_count": 162,
     "metadata": {},
     "output_type": "execute_result"
    }
   ],
   "source": [
    "list2list[2][2]"
   ]
  },
  {
   "cell_type": "code",
   "execution_count": 163,
   "metadata": {},
   "outputs": [
    {
     "data": {
      "text/plain": [
       "9"
      ]
     },
     "execution_count": 163,
     "metadata": {},
     "output_type": "execute_result"
    }
   ],
   "source": [
    "list2list[-1][-1]"
   ]
  },
  {
   "cell_type": "code",
   "execution_count": 164,
   "metadata": {},
   "outputs": [],
   "source": [
    "import numpy as np"
   ]
  },
  {
   "cell_type": "code",
   "execution_count": 165,
   "metadata": {},
   "outputs": [],
   "source": [
    "u = np.array([1,2,3])"
   ]
  },
  {
   "cell_type": "code",
   "execution_count": 166,
   "metadata": {},
   "outputs": [
    {
     "data": {
      "text/plain": [
       "array([1, 2, 3])"
      ]
     },
     "execution_count": 166,
     "metadata": {},
     "output_type": "execute_result"
    }
   ],
   "source": [
    "u"
   ]
  },
  {
   "cell_type": "code",
   "execution_count": 167,
   "metadata": {},
   "outputs": [],
   "source": [
    "v = np.array([4,-5,6])\n"
   ]
  },
  {
   "cell_type": "code",
   "execution_count": 168,
   "metadata": {},
   "outputs": [
    {
     "data": {
      "text/plain": [
       "array([ 5, -3,  9])"
      ]
     },
     "execution_count": 168,
     "metadata": {},
     "output_type": "execute_result"
    }
   ],
   "source": [
    "u+v"
   ]
  },
  {
   "cell_type": "code",
   "execution_count": 169,
   "metadata": {},
   "outputs": [
    {
     "data": {
      "text/plain": [
       "array([2, 4, 6])"
      ]
     },
     "execution_count": 169,
     "metadata": {},
     "output_type": "execute_result"
    }
   ],
   "source": [
    "2*u"
   ]
  },
  {
   "cell_type": "code",
   "execution_count": 170,
   "metadata": {},
   "outputs": [
    {
     "data": {
      "text/plain": [
       "array([-4,  5, -6])"
      ]
     },
     "execution_count": 170,
     "metadata": {},
     "output_type": "execute_result"
    }
   ],
   "source": [
    "-v"
   ]
  },
  {
   "cell_type": "code",
   "execution_count": 171,
   "metadata": {},
   "outputs": [
    {
     "data": {
      "text/plain": [
       "array([ 4, -5,  6])"
      ]
     },
     "execution_count": 171,
     "metadata": {},
     "output_type": "execute_result"
    }
   ],
   "source": [
    "v"
   ]
  },
  {
   "cell_type": "code",
   "execution_count": 172,
   "metadata": {},
   "outputs": [
    {
     "data": {
      "text/plain": [
       "array([-4,  5, -6])"
      ]
     },
     "execution_count": 172,
     "metadata": {},
     "output_type": "execute_result"
    }
   ],
   "source": [
    "-v"
   ]
  },
  {
   "cell_type": "code",
   "execution_count": 173,
   "metadata": {},
   "outputs": [
    {
     "data": {
      "text/plain": [
       "array([-2,  9,  0])"
      ]
     },
     "execution_count": 173,
     "metadata": {},
     "output_type": "execute_result"
    }
   ],
   "source": [
    "2 * u - v"
   ]
  },
  {
   "cell_type": "code",
   "execution_count": 174,
   "metadata": {},
   "outputs": [
    {
     "data": {
      "text/plain": [
       "array([1, 2, 3])"
      ]
     },
     "execution_count": 174,
     "metadata": {},
     "output_type": "execute_result"
    }
   ],
   "source": [
    "u"
   ]
  },
  {
   "cell_type": "code",
   "execution_count": 175,
   "metadata": {},
   "outputs": [
    {
     "data": {
      "text/plain": [
       "array([ 4, -5,  6])"
      ]
     },
     "execution_count": 175,
     "metadata": {},
     "output_type": "execute_result"
    }
   ],
   "source": [
    "v"
   ]
  },
  {
   "cell_type": "markdown",
   "metadata": {},
   "source": [
    "Produit scalaire avec @"
   ]
  },
  {
   "cell_type": "code",
   "execution_count": 179,
   "metadata": {},
   "outputs": [
    {
     "data": {
      "text/plain": [
       "np.int64(12)"
      ]
     },
     "execution_count": 179,
     "metadata": {},
     "output_type": "execute_result"
    }
   ],
   "source": [
    "u @ v"
   ]
  },
  {
   "cell_type": "code",
   "execution_count": 180,
   "metadata": {},
   "outputs": [],
   "source": [
    "u = np.array([1,0])\n",
    "v = np.array([0,1])"
   ]
  },
  {
   "cell_type": "code",
   "execution_count": 181,
   "metadata": {},
   "outputs": [
    {
     "data": {
      "text/plain": [
       "np.int64(0)"
      ]
     },
     "execution_count": 181,
     "metadata": {},
     "output_type": "execute_result"
    }
   ],
   "source": [
    "u@v"
   ]
  },
  {
   "cell_type": "code",
   "execution_count": 182,
   "metadata": {},
   "outputs": [
    {
     "data": {
      "text/plain": [
       "np.int64(0)"
      ]
     },
     "execution_count": 182,
     "metadata": {},
     "output_type": "execute_result"
    }
   ],
   "source": [
    "u.dot(v)"
   ]
  },
  {
   "cell_type": "code",
   "execution_count": 183,
   "metadata": {},
   "outputs": [
    {
     "data": {
      "text/plain": [
       "np.int64(0)"
      ]
     },
     "execution_count": 183,
     "metadata": {},
     "output_type": "execute_result"
    }
   ],
   "source": [
    "v.dot(u)\n"
   ]
  },
  {
   "cell_type": "code",
   "execution_count": 184,
   "metadata": {},
   "outputs": [
    {
     "data": {
      "text/plain": [
       "np.int64(0)"
      ]
     },
     "execution_count": 184,
     "metadata": {},
     "output_type": "execute_result"
    }
   ],
   "source": [
    "np.dot(u, v)"
   ]
  },
  {
   "cell_type": "code",
   "execution_count": 185,
   "metadata": {},
   "outputs": [],
   "source": [
    "M = np.array([[1,2], [3,4], [5,6]])"
   ]
  },
  {
   "cell_type": "code",
   "execution_count": 186,
   "metadata": {},
   "outputs": [
    {
     "data": {
      "text/plain": [
       "array([[1, 2],\n",
       "       [3, 4],\n",
       "       [5, 6]])"
      ]
     },
     "execution_count": 186,
     "metadata": {},
     "output_type": "execute_result"
    }
   ],
   "source": [
    "M"
   ]
  },
  {
   "cell_type": "code",
   "execution_count": 187,
   "metadata": {},
   "outputs": [
    {
     "data": {
      "text/plain": [
       "array([1, 0])"
      ]
     },
     "execution_count": 187,
     "metadata": {},
     "output_type": "execute_result"
    }
   ],
   "source": [
    "u"
   ]
  },
  {
   "cell_type": "code",
   "execution_count": 188,
   "metadata": {},
   "outputs": [
    {
     "data": {
      "text/plain": [
       "array([1, 3, 5])"
      ]
     },
     "execution_count": 188,
     "metadata": {},
     "output_type": "execute_result"
    }
   ],
   "source": [
    "M @ u"
   ]
  },
  {
   "cell_type": "markdown",
   "metadata": {},
   "source": [
    "### fin"
   ]
  }
 ],
 "metadata": {
  "kernelspec": {
   "display_name": "Python 3",
   "language": "python",
   "name": "python3"
  },
  "language_info": {
   "codemirror_mode": {
    "name": "ipython",
    "version": 3
   },
   "file_extension": ".py",
   "mimetype": "text/x-python",
   "name": "python",
   "nbconvert_exporter": "python",
   "pygments_lexer": "ipython3",
   "version": "3.13.2"
  }
 },
 "nbformat": 4,
 "nbformat_minor": 2
}
